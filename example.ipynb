{
 "cells": [
  {
   "cell_type": "markdown",
   "metadata": {},
   "source": [
    "# Example\n",
    "\n",
    "This iPython Notebook is an example of how to utilize the ipynb_test.py library."
   ]
  },
  {
   "cell_type": "markdown",
   "metadata": {},
   "source": [
    "First, import the script with the %run magic command"
   ]
  },
  {
   "cell_type": "code",
   "execution_count": 1,
   "metadata": {},
   "outputs": [],
   "source": [
    "%run ipynb_test.py"
   ]
  },
  {
   "cell_type": "markdown",
   "metadata": {},
   "source": [
    "Here is an example of a function, `division`, which we might want to test.\n",
    "\n",
    "This function divides 2 numbers, but has a bug when the numerator is 11."
   ]
  },
  {
   "cell_type": "code",
   "execution_count": 2,
   "metadata": {},
   "outputs": [],
   "source": [
    "def division(numerator, denominator):\n",
    "    if numerator is 11:\n",
    "        numerator = 0\n",
    "    return numerator / denominator"
   ]
  },
  {
   "cell_type": "markdown",
   "metadata": {},
   "source": [
    "Let's start by creating an instance of `UnitTest` for the function `division`.\n",
    "We'll call this `division_test`."
   ]
  },
  {
   "cell_type": "code",
   "execution_count": 3,
   "metadata": {},
   "outputs": [],
   "source": [
    "# create the UnitTest instance as division_test\n",
    "division_test = UnitTest(division)"
   ]
  },
  {
   "cell_type": "markdown",
   "metadata": {},
   "source": [
    "We can add test cases with the `match` function.\n",
    "\n",
    "The arguments are as follows:\n",
    "* A list of arguments to pass to `division`\n",
    "* The expected output"
   ]
  },
  {
   "cell_type": "code",
   "execution_count": 4,
   "metadata": {},
   "outputs": [],
   "source": [
    "# when we divide 1/2 we expect the result to be 0.5\n",
    "division_test.match([1, 2], 0.5)\n",
    "\n",
    "# when we divide 100/10 we expect the result to be 10\n",
    "division_test.match([100, 10], 10)\n",
    "\n",
    "# when we divide 11/5 we expect the result to be 2.2\n",
    "division_test.match([11, 5], 3)"
   ]
  },
  {
   "cell_type": "markdown",
   "metadata": {},
   "source": [
    "By default, this uses the `eq` comparator.\n",
    "\n",
    "We can specify custom criteria for test success using the optional `criteria` parameter. For example:\n",
    "* When comparing numpy arrays, we need the `array_equal` test for equality.\n",
    "* We might want to use a custom comparator to determine when a result is within a certain range."
   ]
  },
  {
   "cell_type": "code",
   "execution_count": 5,
   "metadata": {},
   "outputs": [],
   "source": [
    "import numpy as np\n",
    "\n",
    "# when we divide the array [6, 2] by the array [2], we expect [3, 1]\n",
    "division_test.match([np.array([6, 2]), np.array([2])], np.array([3, 1]), criteria=np.array_equal)"
   ]
  },
  {
   "cell_type": "code",
   "execution_count": 6,
   "metadata": {},
   "outputs": [],
   "source": [
    "def less_than(a, b):\n",
    "    return a < b\n",
    "\n",
    "# when we divide 23/10 we expect the result to be less than 3\n",
    "division_test.match([23, 10], 3, criteria=less_than)"
   ]
  },
  {
   "cell_type": "markdown",
   "metadata": {},
   "source": [
    "We can also test for exceptions that are thrown with `exception`.\n",
    "By default, this only matches the type of error without regard to the message.\n",
    "\n",
    "The arguments are as follows:\n",
    "* A list of arguments to pass to `division`\n",
    "* An exception to expect to be raised"
   ]
  },
  {
   "cell_type": "code",
   "execution_count": 7,
   "metadata": {},
   "outputs": [],
   "source": [
    "division_test.exception([1, 0], ZeroDivisionError())"
   ]
  },
  {
   "cell_type": "markdown",
   "metadata": {},
   "source": [
    "Finally, execute the test case suite and generate a report with `run`.\n",
    "\n",
    "Successful cases will be marked with ok, and failed cases will be marked with fail."
   ]
  },
  {
   "cell_type": "code",
   "execution_count": 8,
   "metadata": {},
   "outputs": [
    {
     "data": {
      "text/markdown": [
       "### unit test for division:\n",
       "\n",
       "| Arguments | Output | Expected | ✓ | ms |\n",
       "| :-------- | :----- | :------- | -- | -- |\n",
       "| `1`, `2` | `0.5` | `0.5` | <span style=\"color:green\">*ok*</span> | <span style=\"color:lightgray\">0.00</span> |\n",
       "| `100`, `10` | `10.0` | `10` | <span style=\"color:green\">*ok*</span> | <span style=\"color:lightgray\">0.00</span> |\n",
       "| `11`, `5` | `0.0` | `3` | <span style=\"color:red\">***fail***</span> | <span style=\"color:lightgray\">0.00</span> |\n",
       "| `array([6, 2])`, `array([2])` | `array([3., 1.])` | `array([3, 1])` | <span style=\"color:green\">*ok*</span> | <span style=\"color:lightgray\">0.00</span> |\n",
       "| `23`, `10` | `2.3` | `3` | <span style=\"color:green\">*ok*</span> | <span style=\"color:lightgray\">0.00</span> |\n",
       "| `1`, `0` | <span style=\"color:red\">ZeroDivisionError('division by zero',)</span> | <span style=\"color:red\">ZeroDivisionError()</span> | <span style=\"color:green\">*ok*</span> | <span style=\"color:lightgray\">0.00</span> |\n"
      ],
      "text/plain": [
       "<IPython.core.display.Markdown object>"
      ]
     },
     "metadata": {},
     "output_type": "display_data"
    }
   ],
   "source": [
    "division_test.run()"
   ]
  },
  {
   "cell_type": "markdown",
   "metadata": {},
   "source": [
    "## Shortened Example\n",
    "\n",
    "To summarize, a function and its test block might be executed like this:"
   ]
  },
  {
   "cell_type": "code",
   "execution_count": 9,
   "metadata": {},
   "outputs": [],
   "source": [
    "def division(numerator, denominator):\n",
    "    if numerator is 11:\n",
    "        numerator = 0\n",
    "    return numerator / denominator"
   ]
  },
  {
   "cell_type": "code",
   "execution_count": 10,
   "metadata": {},
   "outputs": [
    {
     "data": {
      "text/markdown": [
       "### unit test for division:\n",
       "\n",
       "| Arguments | Output | Expected | ✓ | ms |\n",
       "| :-------- | :----- | :------- | -- | -- |\n",
       "| `1`, `2` | `0.5` | `0.5` | <span style=\"color:green\">*ok*</span> | <span style=\"color:lightgray\">0.00</span> |\n",
       "| `100`, `10` | `10.0` | `10` | <span style=\"color:green\">*ok*</span> | <span style=\"color:lightgray\">0.00</span> |\n",
       "| `11`, `5` | `0.0` | `3` | <span style=\"color:red\">***fail***</span> | <span style=\"color:lightgray\">0.00</span> |\n",
       "| `array([6, 2])`, `array([2])` | `array([3., 1.])` | `array([3, 1])` | <span style=\"color:green\">*ok*</span> | <span style=\"color:lightgray\">0.00</span> |\n",
       "| `23`, `10` | `2.3` | `3` | <span style=\"color:green\">*ok*</span> | <span style=\"color:lightgray\">0.00</span> |\n",
       "| `1`, `0` | <span style=\"color:red\">ZeroDivisionError('division by zero',)</span> | <span style=\"color:red\">ZeroDivisionError()</span> | <span style=\"color:green\">*ok*</span> | <span style=\"color:lightgray\">0.00</span> |\n",
       "| `1`, `2` | `0.5` | `0.5` | <span style=\"color:green\">*ok*</span> | <span style=\"color:lightgray\">0.00</span> |\n",
       "| `100`, `10` | `10.0` | `10` | <span style=\"color:green\">*ok*</span> | <span style=\"color:lightgray\">0.00</span> |\n",
       "| `11`, `5` | `0.0` | `3` | <span style=\"color:red\">***fail***</span> | <span style=\"color:lightgray\">0.00</span> |\n"
      ],
      "text/plain": [
       "<IPython.core.display.Markdown object>"
      ]
     },
     "metadata": {},
     "output_type": "display_data"
    }
   ],
   "source": [
    "##initialize\n",
    "# create the UnitTest instance\n",
    "division_test_2 = UnitTest(division)\n",
    "\n",
    "## register test cases\n",
    "division_test_2.match([  1,  2],  0.5)\n",
    "division_test_2.match([100, 10], 10)\n",
    "division_test_2.match([  11, 5],  3)\n",
    "\n",
    "## generate report\n",
    "division_test_2.run()"
   ]
  }
 ],
 "metadata": {
  "kernelspec": {
   "display_name": "Python 3",
   "language": "python",
   "name": "python3"
  },
  "language_info": {
   "codemirror_mode": {
    "name": "ipython",
    "version": 3
   },
   "file_extension": ".py",
   "mimetype": "text/x-python",
   "name": "python",
   "nbconvert_exporter": "python",
   "pygments_lexer": "ipython3",
   "version": "3.6.5"
  }
 },
 "nbformat": 4,
 "nbformat_minor": 2
}
